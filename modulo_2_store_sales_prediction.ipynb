{
 "cells": [
  {
   "cell_type": "markdown",
   "id": "d7865716",
   "metadata": {},
   "source": [
    "# 1 - Imports"
   ]
  },
  {
   "cell_type": "code",
   "execution_count": 106,
   "id": "e0d9340f",
   "metadata": {
    "ExecuteTime": {
     "end_time": "2022-03-23T21:08:26.863861Z",
     "start_time": "2022-03-23T21:08:22.052258Z"
    }
   },
   "outputs": [],
   "source": [
    "import pandas as pd\n",
    "import inflection\n",
    "import calendar\n",
    "import numpy as np\n",
    "import seaborn as sns\n",
    "import matplotlib.pyplot as plt\n",
    "\n",
    "from warnings import filterwarnings"
   ]
  },
  {
   "cell_type": "code",
   "execution_count": 14,
   "id": "c3e43f4f",
   "metadata": {
    "ExecuteTime": {
     "end_time": "2022-03-23T19:30:45.852401Z",
     "start_time": "2022-03-23T19:30:45.835585Z"
    }
   },
   "outputs": [],
   "source": [
    "filterwarnings('ignore')"
   ]
  },
  {
   "cell_type": "markdown",
   "id": "64f71a5d",
   "metadata": {},
   "source": [
    "## 1.1 - Funções"
   ]
  },
  {
   "cell_type": "code",
   "execution_count": null,
   "id": "b568ce5d",
   "metadata": {},
   "outputs": [],
   "source": []
  },
  {
   "cell_type": "markdown",
   "id": "f6b48264",
   "metadata": {},
   "source": [
    "## 1.2 - Carregando os dados"
   ]
  },
  {
   "cell_type": "code",
   "execution_count": 15,
   "id": "24191f90",
   "metadata": {
    "ExecuteTime": {
     "end_time": "2022-03-23T19:30:48.250558Z",
     "start_time": "2022-03-23T19:30:45.862818Z"
    }
   },
   "outputs": [],
   "source": [
    "store = pd.read_csv('dados/store.csv', low_memory=False)\n",
    "train = pd.read_csv('dados/train.csv', low_memory=False)\n",
    "\n",
    "# Merge\n",
    "df = pd.merge(store,train, how='left', on='Store')"
   ]
  },
  {
   "cell_type": "code",
   "execution_count": 16,
   "id": "04fe3a43",
   "metadata": {
    "ExecuteTime": {
     "end_time": "2022-03-23T19:30:48.365554Z",
     "start_time": "2022-03-23T19:30:48.255716Z"
    }
   },
   "outputs": [
    {
     "data": {
      "text/html": [
       "<div>\n",
       "<style scoped>\n",
       "    .dataframe tbody tr th:only-of-type {\n",
       "        vertical-align: middle;\n",
       "    }\n",
       "\n",
       "    .dataframe tbody tr th {\n",
       "        vertical-align: top;\n",
       "    }\n",
       "\n",
       "    .dataframe thead th {\n",
       "        text-align: right;\n",
       "    }\n",
       "</style>\n",
       "<table border=\"1\" class=\"dataframe\">\n",
       "  <thead>\n",
       "    <tr style=\"text-align: right;\">\n",
       "      <th></th>\n",
       "      <th>Store</th>\n",
       "      <th>StoreType</th>\n",
       "      <th>Assortment</th>\n",
       "      <th>CompetitionDistance</th>\n",
       "      <th>CompetitionOpenSinceMonth</th>\n",
       "      <th>CompetitionOpenSinceYear</th>\n",
       "      <th>Promo2</th>\n",
       "      <th>Promo2SinceWeek</th>\n",
       "      <th>Promo2SinceYear</th>\n",
       "      <th>PromoInterval</th>\n",
       "      <th>DayOfWeek</th>\n",
       "      <th>Date</th>\n",
       "      <th>Sales</th>\n",
       "      <th>Customers</th>\n",
       "      <th>Open</th>\n",
       "      <th>Promo</th>\n",
       "      <th>StateHoliday</th>\n",
       "      <th>SchoolHoliday</th>\n",
       "    </tr>\n",
       "  </thead>\n",
       "  <tbody>\n",
       "    <tr>\n",
       "      <th>0</th>\n",
       "      <td>1</td>\n",
       "      <td>c</td>\n",
       "      <td>a</td>\n",
       "      <td>1270.0</td>\n",
       "      <td>9.0</td>\n",
       "      <td>2008.0</td>\n",
       "      <td>0</td>\n",
       "      <td>NaN</td>\n",
       "      <td>NaN</td>\n",
       "      <td>NaN</td>\n",
       "      <td>5</td>\n",
       "      <td>2015-07-31</td>\n",
       "      <td>5263</td>\n",
       "      <td>555</td>\n",
       "      <td>1</td>\n",
       "      <td>1</td>\n",
       "      <td>0</td>\n",
       "      <td>1</td>\n",
       "    </tr>\n",
       "    <tr>\n",
       "      <th>1</th>\n",
       "      <td>1</td>\n",
       "      <td>c</td>\n",
       "      <td>a</td>\n",
       "      <td>1270.0</td>\n",
       "      <td>9.0</td>\n",
       "      <td>2008.0</td>\n",
       "      <td>0</td>\n",
       "      <td>NaN</td>\n",
       "      <td>NaN</td>\n",
       "      <td>NaN</td>\n",
       "      <td>4</td>\n",
       "      <td>2015-07-30</td>\n",
       "      <td>5020</td>\n",
       "      <td>546</td>\n",
       "      <td>1</td>\n",
       "      <td>1</td>\n",
       "      <td>0</td>\n",
       "      <td>1</td>\n",
       "    </tr>\n",
       "    <tr>\n",
       "      <th>2</th>\n",
       "      <td>1</td>\n",
       "      <td>c</td>\n",
       "      <td>a</td>\n",
       "      <td>1270.0</td>\n",
       "      <td>9.0</td>\n",
       "      <td>2008.0</td>\n",
       "      <td>0</td>\n",
       "      <td>NaN</td>\n",
       "      <td>NaN</td>\n",
       "      <td>NaN</td>\n",
       "      <td>3</td>\n",
       "      <td>2015-07-29</td>\n",
       "      <td>4782</td>\n",
       "      <td>523</td>\n",
       "      <td>1</td>\n",
       "      <td>1</td>\n",
       "      <td>0</td>\n",
       "      <td>1</td>\n",
       "    </tr>\n",
       "    <tr>\n",
       "      <th>3</th>\n",
       "      <td>1</td>\n",
       "      <td>c</td>\n",
       "      <td>a</td>\n",
       "      <td>1270.0</td>\n",
       "      <td>9.0</td>\n",
       "      <td>2008.0</td>\n",
       "      <td>0</td>\n",
       "      <td>NaN</td>\n",
       "      <td>NaN</td>\n",
       "      <td>NaN</td>\n",
       "      <td>2</td>\n",
       "      <td>2015-07-28</td>\n",
       "      <td>5011</td>\n",
       "      <td>560</td>\n",
       "      <td>1</td>\n",
       "      <td>1</td>\n",
       "      <td>0</td>\n",
       "      <td>1</td>\n",
       "    </tr>\n",
       "    <tr>\n",
       "      <th>4</th>\n",
       "      <td>1</td>\n",
       "      <td>c</td>\n",
       "      <td>a</td>\n",
       "      <td>1270.0</td>\n",
       "      <td>9.0</td>\n",
       "      <td>2008.0</td>\n",
       "      <td>0</td>\n",
       "      <td>NaN</td>\n",
       "      <td>NaN</td>\n",
       "      <td>NaN</td>\n",
       "      <td>1</td>\n",
       "      <td>2015-07-27</td>\n",
       "      <td>6102</td>\n",
       "      <td>612</td>\n",
       "      <td>1</td>\n",
       "      <td>1</td>\n",
       "      <td>0</td>\n",
       "      <td>1</td>\n",
       "    </tr>\n",
       "  </tbody>\n",
       "</table>\n",
       "</div>"
      ],
      "text/plain": [
       "   Store StoreType Assortment  CompetitionDistance  CompetitionOpenSinceMonth  \\\n",
       "0      1         c          a               1270.0                        9.0   \n",
       "1      1         c          a               1270.0                        9.0   \n",
       "2      1         c          a               1270.0                        9.0   \n",
       "3      1         c          a               1270.0                        9.0   \n",
       "4      1         c          a               1270.0                        9.0   \n",
       "\n",
       "   CompetitionOpenSinceYear  Promo2  Promo2SinceWeek  Promo2SinceYear  \\\n",
       "0                    2008.0       0              NaN              NaN   \n",
       "1                    2008.0       0              NaN              NaN   \n",
       "2                    2008.0       0              NaN              NaN   \n",
       "3                    2008.0       0              NaN              NaN   \n",
       "4                    2008.0       0              NaN              NaN   \n",
       "\n",
       "  PromoInterval  DayOfWeek        Date  Sales  Customers  Open  Promo  \\\n",
       "0           NaN          5  2015-07-31   5263        555     1      1   \n",
       "1           NaN          4  2015-07-30   5020        546     1      1   \n",
       "2           NaN          3  2015-07-29   4782        523     1      1   \n",
       "3           NaN          2  2015-07-28   5011        560     1      1   \n",
       "4           NaN          1  2015-07-27   6102        612     1      1   \n",
       "\n",
       "  StateHoliday  SchoolHoliday  \n",
       "0            0              1  \n",
       "1            0              1  \n",
       "2            0              1  \n",
       "3            0              1  \n",
       "4            0              1  "
      ]
     },
     "execution_count": 16,
     "metadata": {},
     "output_type": "execute_result"
    }
   ],
   "source": [
    "df.head()"
   ]
  },
  {
   "cell_type": "markdown",
   "id": "94fe341c",
   "metadata": {},
   "source": [
    "# 2 - Descrição dos dados"
   ]
  },
  {
   "cell_type": "code",
   "execution_count": 17,
   "id": "419054da",
   "metadata": {
    "ExecuteTime": {
     "end_time": "2022-03-23T19:30:48.949222Z",
     "start_time": "2022-03-23T19:30:48.377484Z"
    }
   },
   "outputs": [],
   "source": [
    "df1 = df.copy()"
   ]
  },
  {
   "cell_type": "markdown",
   "id": "2a9cf376",
   "metadata": {},
   "source": [
    "## 2.1 - Renomear as colunas"
   ]
  },
  {
   "cell_type": "code",
   "execution_count": 18,
   "id": "040c7bf1",
   "metadata": {
    "ExecuteTime": {
     "end_time": "2022-03-23T19:30:48.976195Z",
     "start_time": "2022-03-23T19:30:48.954266Z"
    }
   },
   "outputs": [],
   "source": [
    "old_name = ['Store', 'StoreType', 'Assortment', 'CompetitionDistance',\n",
    "'CompetitionOpenSinceMonth', 'CompetitionOpenSinceYear', 'Promo2',\n",
    "'Promo2SinceWeek', 'Promo2SinceYear', 'PromoInterval', 'DayOfWeek',\n",
    "'Date', 'Sales', 'Customers', 'Open', 'Promo', 'StateHoliday',\n",
    "'SchoolHoliday']\n",
    "\n",
    "snakecase = lambda x: inflection.underscore(x)\n",
    "new_name = list(map(snakecase, old_name))\n",
    "\n",
    "# Renomear colunas\n",
    "df1.columns = new_name"
   ]
  },
  {
   "cell_type": "code",
   "execution_count": 19,
   "id": "a968480e",
   "metadata": {
    "ExecuteTime": {
     "end_time": "2022-03-23T19:30:49.011243Z",
     "start_time": "2022-03-23T19:30:48.982515Z"
    }
   },
   "outputs": [
    {
     "name": "stdout",
     "output_type": "stream",
     "text": [
      "Quantidade de colunas: 1017209\n",
      "Quantidade de linhas: 18\n"
     ]
    }
   ],
   "source": [
    "print(f'Quantidade de colunas: {df1.shape[0]}')\n",
    "print(f'Quantidade de linhas: {df1.shape[1]}')"
   ]
  },
  {
   "cell_type": "markdown",
   "id": "a98adc2a",
   "metadata": {},
   "source": [
    "## 2.2 - Tipo dos dados"
   ]
  },
  {
   "cell_type": "code",
   "execution_count": 20,
   "id": "b883d48a",
   "metadata": {
    "ExecuteTime": {
     "end_time": "2022-03-23T19:30:49.591691Z",
     "start_time": "2022-03-23T19:30:49.021051Z"
    }
   },
   "outputs": [
    {
     "data": {
      "text/plain": [
       "store                                    int64\n",
       "store_type                              object\n",
       "assortment                              object\n",
       "competition_distance                   float64\n",
       "competition_open_since_month           float64\n",
       "competition_open_since_year            float64\n",
       "promo2                                   int64\n",
       "promo2_since_week                      float64\n",
       "promo2_since_year                      float64\n",
       "promo_interval                          object\n",
       "day_of_week                              int64\n",
       "date                            datetime64[ns]\n",
       "sales                                    int64\n",
       "customers                                int64\n",
       "open                                     int64\n",
       "promo                                    int64\n",
       "state_holiday                           object\n",
       "school_holiday                           int64\n",
       "dtype: object"
      ]
     },
     "execution_count": 20,
     "metadata": {},
     "output_type": "execute_result"
    }
   ],
   "source": [
    "df1['date'] = pd.to_datetime(df1['date'])\n",
    "\n",
    "df1.dtypes"
   ]
  },
  {
   "cell_type": "markdown",
   "id": "cbd43cfd",
   "metadata": {},
   "source": [
    "## 2.3 - Dados nulos"
   ]
  },
  {
   "cell_type": "code",
   "execution_count": 21,
   "id": "1f8f27d6",
   "metadata": {
    "ExecuteTime": {
     "end_time": "2022-03-23T19:30:51.544643Z",
     "start_time": "2022-03-23T19:30:49.600738Z"
    }
   },
   "outputs": [
    {
     "data": {
      "text/plain": [
       "store                                0\n",
       "store_type                           0\n",
       "assortment                           0\n",
       "competition_distance              2642\n",
       "competition_open_since_month    323348\n",
       "competition_open_since_year     323348\n",
       "promo2                               0\n",
       "promo2_since_week               508031\n",
       "promo2_since_year               508031\n",
       "promo_interval                  508031\n",
       "day_of_week                          0\n",
       "date                                 0\n",
       "sales                                0\n",
       "customers                            0\n",
       "open                                 0\n",
       "promo                                0\n",
       "state_holiday                        0\n",
       "school_holiday                       0\n",
       "dtype: int64"
      ]
     },
     "execution_count": 21,
     "metadata": {},
     "output_type": "execute_result"
    }
   ],
   "source": [
    "df1.isnull().sum()"
   ]
  },
  {
   "cell_type": "markdown",
   "id": "e23c8a31",
   "metadata": {},
   "source": [
    "## 2.4 - Corrigindo os dados nulos"
   ]
  },
  {
   "cell_type": "code",
   "execution_count": 22,
   "id": "abc50211",
   "metadata": {
    "ExecuteTime": {
     "end_time": "2022-03-23T19:31:37.668582Z",
     "start_time": "2022-03-23T19:30:51.557434Z"
    },
    "code_folding": []
   },
   "outputs": [],
   "source": [
    "# competition_distance\n",
    "df1['competition_distance'].fillna(200000, inplace=True)\n",
    "\n",
    "#competition_open_since_month\n",
    "df1['competition_open_since_month'].fillna(df1['date'].dt.month, inplace=True)\n",
    "\n",
    "#competition_open_since_year\n",
    "df1['competition_open_since_year'].fillna(df1['date'].dt.year, inplace=True)\n",
    "\n",
    "#promo2_since_week\n",
    "df1['promo2_since_week'].fillna(df1['date'].dt.week, inplace=True)\n",
    "\n",
    "#promo2_since_year\n",
    "df1['promo2_since_year'].fillna(df1['date'].dt.year, inplace=True)\n",
    "\n",
    "#promo_interval\n",
    "df1['promo_interval'].fillna(0, inplace=True)\n",
    "\n",
    "month_map = dict(enumerate(calendar.month_abbr))\n",
    "\n",
    "df1['month_map'] = df1['date'].dt.month.map(month_map)\n",
    "\n",
    "df1['is_promo'] = df1[['month_map', 'promo_interval']].apply(lambda x: 0 if x['promo_interval'] == 0 else 1 if \n",
    "                                                        x['month_map'] in x['promo_interval'].split( ',' ) else 0, axis=1)"
   ]
  },
  {
   "cell_type": "code",
   "execution_count": 25,
   "id": "4a6a068a",
   "metadata": {
    "ExecuteTime": {
     "end_time": "2022-03-23T19:31:49.262586Z",
     "start_time": "2022-03-23T19:31:47.246474Z"
    }
   },
   "outputs": [
    {
     "data": {
      "text/plain": [
       "store                           0\n",
       "store_type                      0\n",
       "assortment                      0\n",
       "competition_distance            0\n",
       "competition_open_since_month    0\n",
       "competition_open_since_year     0\n",
       "promo2                          0\n",
       "promo2_since_week               0\n",
       "promo2_since_year               0\n",
       "promo_interval                  0\n",
       "day_of_week                     0\n",
       "date                            0\n",
       "sales                           0\n",
       "customers                       0\n",
       "open                            0\n",
       "promo                           0\n",
       "state_holiday                   0\n",
       "school_holiday                  0\n",
       "month_map                       0\n",
       "is_promo                        0\n",
       "dtype: int64"
      ]
     },
     "execution_count": 25,
     "metadata": {},
     "output_type": "execute_result"
    }
   ],
   "source": [
    "df1.isnull().sum()"
   ]
  },
  {
   "cell_type": "markdown",
   "id": "5baa68af",
   "metadata": {},
   "source": [
    "## 2.5 - Alterar o tipo dos dados"
   ]
  },
  {
   "cell_type": "code",
   "execution_count": 34,
   "id": "120492f0",
   "metadata": {
    "ExecuteTime": {
     "end_time": "2022-03-23T19:37:43.217522Z",
     "start_time": "2022-03-23T19:37:43.164494Z"
    }
   },
   "outputs": [],
   "source": [
    "df1['competition_open_since_month'] = df1['competition_open_since_month'].astype(int)\n",
    "df1['competition_open_since_year'] = df1['competition_open_since_year'].astype(int)\n",
    "df1['promo2_since_week'] = df1['promo2_since_week'].astype(int)\n",
    "df1['promo2_since_year'] = df1['promo2_since_year'].astype(int)"
   ]
  },
  {
   "cell_type": "code",
   "execution_count": 35,
   "id": "6724f45a",
   "metadata": {
    "ExecuteTime": {
     "end_time": "2022-03-23T19:37:43.356345Z",
     "start_time": "2022-03-23T19:37:43.340455Z"
    }
   },
   "outputs": [
    {
     "data": {
      "text/plain": [
       "store                                    int64\n",
       "store_type                              object\n",
       "assortment                              object\n",
       "competition_distance                   float64\n",
       "competition_open_since_month             int64\n",
       "competition_open_since_year              int64\n",
       "promo2                                   int64\n",
       "promo2_since_week                        int64\n",
       "promo2_since_year                        int64\n",
       "promo_interval                          object\n",
       "day_of_week                              int64\n",
       "date                            datetime64[ns]\n",
       "sales                                    int64\n",
       "customers                                int64\n",
       "open                                     int64\n",
       "promo                                    int64\n",
       "state_holiday                           object\n",
       "school_holiday                           int64\n",
       "month_map                               object\n",
       "is_promo                                 int64\n",
       "dtype: object"
      ]
     },
     "execution_count": 35,
     "metadata": {},
     "output_type": "execute_result"
    }
   ],
   "source": [
    "df1.dtypes"
   ]
  },
  {
   "cell_type": "markdown",
   "id": "d7f03789",
   "metadata": {},
   "source": [
    "## 2.6 -  Análise descritiva"
   ]
  },
  {
   "cell_type": "code",
   "execution_count": 37,
   "id": "eeeacc37",
   "metadata": {
    "ExecuteTime": {
     "end_time": "2022-03-23T19:39:55.013227Z",
     "start_time": "2022-03-23T19:39:54.998869Z"
    }
   },
   "outputs": [],
   "source": [
    "num = df1.select_dtypes(include=['int64', 'float64'])\n",
    "cat = df1.select_dtypes(exclude=['int64', 'float64', 'datetime64[ns]'])"
   ]
  },
  {
   "cell_type": "markdown",
   "id": "686f8161",
   "metadata": {},
   "source": [
    "### 2.6.1 - Análise numérica"
   ]
  },
  {
   "cell_type": "code",
   "execution_count": 102,
   "id": "23536042",
   "metadata": {
    "ExecuteTime": {
     "end_time": "2022-03-23T20:46:27.725069Z",
     "start_time": "2022-03-23T20:46:26.415791Z"
    }
   },
   "outputs": [
    {
     "data": {
      "text/html": [
       "<div>\n",
       "<style scoped>\n",
       "    .dataframe tbody tr th:only-of-type {\n",
       "        vertical-align: middle;\n",
       "    }\n",
       "\n",
       "    .dataframe tbody tr th {\n",
       "        vertical-align: top;\n",
       "    }\n",
       "\n",
       "    .dataframe thead th {\n",
       "        text-align: right;\n",
       "    }\n",
       "</style>\n",
       "<table border=\"1\" class=\"dataframe\">\n",
       "  <thead>\n",
       "    <tr style=\"text-align: right;\">\n",
       "      <th></th>\n",
       "      <th>count</th>\n",
       "      <th>mean</th>\n",
       "      <th>median</th>\n",
       "      <th>min</th>\n",
       "      <th>25%</th>\n",
       "      <th>50%</th>\n",
       "      <th>75%</th>\n",
       "      <th>max</th>\n",
       "      <th>range</th>\n",
       "      <th>std</th>\n",
       "      <th>skew</th>\n",
       "      <th>kurtosis</th>\n",
       "    </tr>\n",
       "  </thead>\n",
       "  <tbody>\n",
       "    <tr>\n",
       "      <th>store</th>\n",
       "      <td>1017209.0</td>\n",
       "      <td>558.429727</td>\n",
       "      <td>558.0</td>\n",
       "      <td>1.0</td>\n",
       "      <td>280.0</td>\n",
       "      <td>558.0</td>\n",
       "      <td>838.0</td>\n",
       "      <td>1115.0</td>\n",
       "      <td>1114.0</td>\n",
       "      <td>321.908651</td>\n",
       "      <td>-0.000955</td>\n",
       "      <td>-1.200524</td>\n",
       "    </tr>\n",
       "    <tr>\n",
       "      <th>competition_distance</th>\n",
       "      <td>1017209.0</td>\n",
       "      <td>5935.442677</td>\n",
       "      <td>2330.0</td>\n",
       "      <td>20.0</td>\n",
       "      <td>710.0</td>\n",
       "      <td>2330.0</td>\n",
       "      <td>6910.0</td>\n",
       "      <td>200000.0</td>\n",
       "      <td>199980.0</td>\n",
       "      <td>12547.652996</td>\n",
       "      <td>10.242344</td>\n",
       "      <td>147.789712</td>\n",
       "    </tr>\n",
       "    <tr>\n",
       "      <th>competition_open_since_month</th>\n",
       "      <td>1017209.0</td>\n",
       "      <td>6.786849</td>\n",
       "      <td>7.0</td>\n",
       "      <td>1.0</td>\n",
       "      <td>4.0</td>\n",
       "      <td>7.0</td>\n",
       "      <td>10.0</td>\n",
       "      <td>12.0</td>\n",
       "      <td>11.0</td>\n",
       "      <td>3.311087</td>\n",
       "      <td>-0.042076</td>\n",
       "      <td>-1.232607</td>\n",
       "    </tr>\n",
       "    <tr>\n",
       "      <th>competition_open_since_year</th>\n",
       "      <td>1017209.0</td>\n",
       "      <td>2010.324840</td>\n",
       "      <td>2012.0</td>\n",
       "      <td>1900.0</td>\n",
       "      <td>2008.0</td>\n",
       "      <td>2012.0</td>\n",
       "      <td>2014.0</td>\n",
       "      <td>2015.0</td>\n",
       "      <td>115.0</td>\n",
       "      <td>5.515593</td>\n",
       "      <td>-7.235657</td>\n",
       "      <td>124.071304</td>\n",
       "    </tr>\n",
       "    <tr>\n",
       "      <th>promo2</th>\n",
       "      <td>1017209.0</td>\n",
       "      <td>0.500564</td>\n",
       "      <td>1.0</td>\n",
       "      <td>0.0</td>\n",
       "      <td>0.0</td>\n",
       "      <td>1.0</td>\n",
       "      <td>1.0</td>\n",
       "      <td>1.0</td>\n",
       "      <td>1.0</td>\n",
       "      <td>0.500000</td>\n",
       "      <td>-0.002255</td>\n",
       "      <td>-1.999999</td>\n",
       "    </tr>\n",
       "    <tr>\n",
       "      <th>promo2_since_week</th>\n",
       "      <td>1017209.0</td>\n",
       "      <td>23.619033</td>\n",
       "      <td>22.0</td>\n",
       "      <td>1.0</td>\n",
       "      <td>12.0</td>\n",
       "      <td>22.0</td>\n",
       "      <td>37.0</td>\n",
       "      <td>52.0</td>\n",
       "      <td>51.0</td>\n",
       "      <td>14.310064</td>\n",
       "      <td>0.178723</td>\n",
       "      <td>-1.184046</td>\n",
       "    </tr>\n",
       "    <tr>\n",
       "      <th>promo2_since_year</th>\n",
       "      <td>1017209.0</td>\n",
       "      <td>2012.793297</td>\n",
       "      <td>2013.0</td>\n",
       "      <td>2009.0</td>\n",
       "      <td>2012.0</td>\n",
       "      <td>2013.0</td>\n",
       "      <td>2014.0</td>\n",
       "      <td>2015.0</td>\n",
       "      <td>6.0</td>\n",
       "      <td>1.662658</td>\n",
       "      <td>-0.784436</td>\n",
       "      <td>-0.210075</td>\n",
       "    </tr>\n",
       "    <tr>\n",
       "      <th>day_of_week</th>\n",
       "      <td>1017209.0</td>\n",
       "      <td>3.998341</td>\n",
       "      <td>4.0</td>\n",
       "      <td>1.0</td>\n",
       "      <td>2.0</td>\n",
       "      <td>4.0</td>\n",
       "      <td>6.0</td>\n",
       "      <td>7.0</td>\n",
       "      <td>6.0</td>\n",
       "      <td>1.997391</td>\n",
       "      <td>0.001593</td>\n",
       "      <td>-1.246873</td>\n",
       "    </tr>\n",
       "    <tr>\n",
       "      <th>sales</th>\n",
       "      <td>1017209.0</td>\n",
       "      <td>5773.818972</td>\n",
       "      <td>5744.0</td>\n",
       "      <td>0.0</td>\n",
       "      <td>3727.0</td>\n",
       "      <td>5744.0</td>\n",
       "      <td>7856.0</td>\n",
       "      <td>41551.0</td>\n",
       "      <td>41551.0</td>\n",
       "      <td>3849.926175</td>\n",
       "      <td>0.641460</td>\n",
       "      <td>1.778375</td>\n",
       "    </tr>\n",
       "    <tr>\n",
       "      <th>customers</th>\n",
       "      <td>1017209.0</td>\n",
       "      <td>633.145946</td>\n",
       "      <td>609.0</td>\n",
       "      <td>0.0</td>\n",
       "      <td>405.0</td>\n",
       "      <td>609.0</td>\n",
       "      <td>837.0</td>\n",
       "      <td>7388.0</td>\n",
       "      <td>7388.0</td>\n",
       "      <td>464.411734</td>\n",
       "      <td>1.598650</td>\n",
       "      <td>7.091773</td>\n",
       "    </tr>\n",
       "    <tr>\n",
       "      <th>open</th>\n",
       "      <td>1017209.0</td>\n",
       "      <td>0.830107</td>\n",
       "      <td>1.0</td>\n",
       "      <td>0.0</td>\n",
       "      <td>1.0</td>\n",
       "      <td>1.0</td>\n",
       "      <td>1.0</td>\n",
       "      <td>1.0</td>\n",
       "      <td>1.0</td>\n",
       "      <td>0.375539</td>\n",
       "      <td>-1.758045</td>\n",
       "      <td>1.090723</td>\n",
       "    </tr>\n",
       "    <tr>\n",
       "      <th>promo</th>\n",
       "      <td>1017209.0</td>\n",
       "      <td>0.381515</td>\n",
       "      <td>0.0</td>\n",
       "      <td>0.0</td>\n",
       "      <td>0.0</td>\n",
       "      <td>0.0</td>\n",
       "      <td>1.0</td>\n",
       "      <td>1.0</td>\n",
       "      <td>1.0</td>\n",
       "      <td>0.485759</td>\n",
       "      <td>0.487838</td>\n",
       "      <td>-1.762018</td>\n",
       "    </tr>\n",
       "    <tr>\n",
       "      <th>school_holiday</th>\n",
       "      <td>1017209.0</td>\n",
       "      <td>0.178647</td>\n",
       "      <td>0.0</td>\n",
       "      <td>0.0</td>\n",
       "      <td>0.0</td>\n",
       "      <td>0.0</td>\n",
       "      <td>0.0</td>\n",
       "      <td>1.0</td>\n",
       "      <td>1.0</td>\n",
       "      <td>0.383056</td>\n",
       "      <td>1.677842</td>\n",
       "      <td>0.815154</td>\n",
       "    </tr>\n",
       "    <tr>\n",
       "      <th>is_promo</th>\n",
       "      <td>1017209.0</td>\n",
       "      <td>0.165966</td>\n",
       "      <td>0.0</td>\n",
       "      <td>0.0</td>\n",
       "      <td>0.0</td>\n",
       "      <td>0.0</td>\n",
       "      <td>0.0</td>\n",
       "      <td>1.0</td>\n",
       "      <td>1.0</td>\n",
       "      <td>0.372050</td>\n",
       "      <td>1.795644</td>\n",
       "      <td>1.224338</td>\n",
       "    </tr>\n",
       "  </tbody>\n",
       "</table>\n",
       "</div>"
      ],
      "text/plain": [
       "                                  count         mean  median     min     25%  \\\n",
       "store                         1017209.0   558.429727   558.0     1.0   280.0   \n",
       "competition_distance          1017209.0  5935.442677  2330.0    20.0   710.0   \n",
       "competition_open_since_month  1017209.0     6.786849     7.0     1.0     4.0   \n",
       "competition_open_since_year   1017209.0  2010.324840  2012.0  1900.0  2008.0   \n",
       "promo2                        1017209.0     0.500564     1.0     0.0     0.0   \n",
       "promo2_since_week             1017209.0    23.619033    22.0     1.0    12.0   \n",
       "promo2_since_year             1017209.0  2012.793297  2013.0  2009.0  2012.0   \n",
       "day_of_week                   1017209.0     3.998341     4.0     1.0     2.0   \n",
       "sales                         1017209.0  5773.818972  5744.0     0.0  3727.0   \n",
       "customers                     1017209.0   633.145946   609.0     0.0   405.0   \n",
       "open                          1017209.0     0.830107     1.0     0.0     1.0   \n",
       "promo                         1017209.0     0.381515     0.0     0.0     0.0   \n",
       "school_holiday                1017209.0     0.178647     0.0     0.0     0.0   \n",
       "is_promo                      1017209.0     0.165966     0.0     0.0     0.0   \n",
       "\n",
       "                                 50%     75%       max     range  \\\n",
       "store                          558.0   838.0    1115.0    1114.0   \n",
       "competition_distance          2330.0  6910.0  200000.0  199980.0   \n",
       "competition_open_since_month     7.0    10.0      12.0      11.0   \n",
       "competition_open_since_year   2012.0  2014.0    2015.0     115.0   \n",
       "promo2                           1.0     1.0       1.0       1.0   \n",
       "promo2_since_week               22.0    37.0      52.0      51.0   \n",
       "promo2_since_year             2013.0  2014.0    2015.0       6.0   \n",
       "day_of_week                      4.0     6.0       7.0       6.0   \n",
       "sales                         5744.0  7856.0   41551.0   41551.0   \n",
       "customers                      609.0   837.0    7388.0    7388.0   \n",
       "open                             1.0     1.0       1.0       1.0   \n",
       "promo                            0.0     1.0       1.0       1.0   \n",
       "school_holiday                   0.0     0.0       1.0       1.0   \n",
       "is_promo                         0.0     0.0       1.0       1.0   \n",
       "\n",
       "                                       std       skew    kurtosis  \n",
       "store                           321.908651  -0.000955   -1.200524  \n",
       "competition_distance          12547.652996  10.242344  147.789712  \n",
       "competition_open_since_month      3.311087  -0.042076   -1.232607  \n",
       "competition_open_since_year       5.515593  -7.235657  124.071304  \n",
       "promo2                            0.500000  -0.002255   -1.999999  \n",
       "promo2_since_week                14.310064   0.178723   -1.184046  \n",
       "promo2_since_year                 1.662658  -0.784436   -0.210075  \n",
       "day_of_week                       1.997391   0.001593   -1.246873  \n",
       "sales                          3849.926175   0.641460    1.778375  \n",
       "customers                       464.411734   1.598650    7.091773  \n",
       "open                              0.375539  -1.758045    1.090723  \n",
       "promo                             0.485759   0.487838   -1.762018  \n",
       "school_holiday                    0.383056   1.677842    0.815154  \n",
       "is_promo                          0.372050   1.795644    1.224338  "
      ]
     },
     "execution_count": 102,
     "metadata": {},
     "output_type": "execute_result"
    }
   ],
   "source": [
    "# Tendência central(média e mediana) e dispersão (min, max, percentis, std, skew e kurtosis)\n",
    "desc = num.describe().T\n",
    "median = pd.DataFrame( num.apply( np.median ) )\n",
    "range_ = pd.DataFrame( num.apply( lambda x: x.max() - x.min() ) )\n",
    "skew = pd.DataFrame( num.apply( lambda x: x.skew() ) )\n",
    "kurtosis = pd.DataFrame( num.apply( lambda x: x.kurtosis() ) )\n",
    "\n",
    "desc.insert(2,'median', median[0].values)\n",
    "desc.insert(len(desc.columns),'range', range_[0].values)\n",
    "std = desc.pop('std')\n",
    "desc.insert(len(desc.columns),'std', std)\n",
    "desc.insert(len(desc.columns),'skew', skew[0].values)\n",
    "desc.insert(len(desc.columns),'kurtosis', kurtosis[0].values)\n",
    "\n",
    "desc"
   ]
  },
  {
   "cell_type": "markdown",
   "id": "cb33ac89",
   "metadata": {},
   "source": [
    "### 2.6.2 - Análise categórica"
   ]
  },
  {
   "cell_type": "code",
   "execution_count": 122,
   "id": "240e8582",
   "metadata": {
    "ExecuteTime": {
     "end_time": "2022-03-23T21:12:29.228490Z",
     "start_time": "2022-03-23T21:12:28.849980Z"
    }
   },
   "outputs": [
    {
     "data": {
      "text/plain": [
       "store_type         4\n",
       "assortment         3\n",
       "promo_interval     4\n",
       "state_holiday      4\n",
       "month_map         12\n",
       "dtype: int64"
      ]
     },
     "execution_count": 122,
     "metadata": {},
     "output_type": "execute_result"
    }
   ],
   "source": [
    "cat.apply(lambda x: x.unique().shape[0])"
   ]
  },
  {
   "cell_type": "code",
   "execution_count": 127,
   "id": "82fde8e9",
   "metadata": {
    "ExecuteTime": {
     "end_time": "2022-03-23T21:14:13.112162Z",
     "start_time": "2022-03-23T21:14:11.890737Z"
    }
   },
   "outputs": [
    {
     "data": {
      "text/plain": [
       "<AxesSubplot:xlabel='assortment', ylabel='sales'>"
      ]
     },
     "execution_count": 127,
     "metadata": {},
     "output_type": "execute_result"
    },
    {
     "data": {
      "image/png": "[encoded data removed]",
      "text/plain": [
       "<Figure size 1296x576 with 3 Axes>"
      ]
     },
     "metadata": {
      "needs_background": "light"
     },
     "output_type": "display_data"
    }
   ],
   "source": [
    "aux = df1[(df1['state_holiday'] != '0') & (df1['sales'] > 0)]\n",
    "\n",
    "plt.figure(figsize=(18,8))\n",
    "plt.subplot(1, 3, 1)\n",
    "sns.boxplot(x='state_holiday', y='sales', data=aux)\n",
    "plt.subplot(1, 3, 2)\n",
    "sns.boxplot(x='store_type', y='sales', data=aux)\n",
    "plt.subplot(1, 3, 3)\n",
    "sns.boxplot(x='assortment', y='sales', data=aux)"
   ]
  },
  {
   "cell_type": "code",
   "execution_count": null,
   "id": "c261b19e",
   "metadata": {},
   "outputs": [],
   "source": []
  }
 ],
 "metadata": {
  "kernelspec": {
   "display_name": "Python 3 (ipykernel)",
   "language": "python",
   "name": "python3"
  },
  "language_info": {
   "codemirror_mode": {
    "name": "ipython",
    "version": 3
   },
   "file_extension": ".py",
   "mimetype": "text/x-python",
   "name": "python",
   "nbconvert_exporter": "python",
   "pygments_lexer": "ipython3",
   "version": "3.8.0"
  }
 },
 "nbformat": 4,
 "nbformat_minor": 5
}
