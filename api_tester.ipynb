{
 "cells": [
  {
   "cell_type": "code",
   "execution_count": 1,
   "id": "c7a15f9a",
   "metadata": {
    "ExecuteTime": {
     "end_time": "2022-05-17T03:41:41.157169Z",
     "start_time": "2022-05-17T03:41:39.786334Z"
    }
   },
   "outputs": [],
   "source": [
    "import requests\n",
    "import pandas as pd"
   ]
  },
  {
   "cell_type": "code",
   "execution_count": 2,
   "id": "8ace5b58",
   "metadata": {
    "ExecuteTime": {
     "end_time": "2022-05-17T03:41:41.504744Z",
     "start_time": "2022-05-17T03:41:41.162768Z"
    }
   },
   "outputs": [],
   "source": [
    "test = pd.read_csv('dados/test.csv')\n",
    "store = pd.read_csv('dados/store.csv')\n",
    "df_test = pd.merge(test, store, how='left', on='Store')\n",
    "df_test.drop('Id', axis=1, inplace=True)"
   ]
  },
  {
   "cell_type": "code",
   "execution_count": 3,
   "id": "41bd5859",
   "metadata": {
    "ExecuteTime": {
     "end_time": "2022-05-17T03:41:41.529273Z",
     "start_time": "2022-05-17T03:41:41.508690Z"
    }
   },
   "outputs": [],
   "source": [
    "# Lojas\n",
    "df_test = df_test[df_test['Store'].isin([12, 20, 22, 97, 274])]\n",
    "# loja aberta\n",
    "df_test = df_test[(df_test['Open'] == 1) & (df_test['Open'].notnull())]"
   ]
  },
  {
   "cell_type": "code",
   "execution_count": 4,
   "id": "114e44d2",
   "metadata": {
    "ExecuteTime": {
     "end_time": "2022-05-17T03:41:41.565915Z",
     "start_time": "2022-05-17T03:41:41.539923Z"
    }
   },
   "outputs": [],
   "source": [
    " data = json.dumps(df_test.to_dict(orient='records'))"
   ]
  },
  {
   "cell_type": "code",
   "execution_count": 5,
   "id": "bbd59bc5",
   "metadata": {
    "ExecuteTime": {
     "end_time": "2022-05-17T03:41:43.295758Z",
     "start_time": "2022-05-17T03:41:41.573290Z"
    }
   },
   "outputs": [
    {
     "name": "stdout",
     "output_type": "stream",
     "text": [
      "Status code 200\n"
     ]
    }
   ],
   "source": [
    "#url = 'http://localhost:5000/rossmann/predict'\n",
    "url = 'https://rossmann-sale-model.herokuapp.com/rossmann/predict'\n",
    "header = {'Content-type':'application/json'}\n",
    "data = data\n",
    "r = requests.post(url, data=data, headers=header)\n",
    "print(f'Status code {r.status_code}')"
   ]
  },
  {
   "cell_type": "code",
   "execution_count": 6,
   "id": "b013a658",
   "metadata": {
    "ExecuteTime": {
     "end_time": "2022-05-17T03:41:43.399560Z",
     "start_time": "2022-05-17T03:41:43.301610Z"
    }
   },
   "outputs": [
    {
     "name": "stdout",
     "output_type": "stream",
     "text": [
      "Loja número 12 venderá R$ 321,323.82 nas próximas 6 semanas\n",
      "Loja número 20 venderá R$ 322,757.22 nas próximas 6 semanas\n",
      "Loja número 22 venderá R$ 190,807.35 nas próximas 6 semanas\n",
      "Loja número 274 venderá R$ 192,423.05 nas próximas 6 semanas\n"
     ]
    }
   ],
   "source": [
    "d1 = pd.DataFrame(r.json(), columns=r.json()[0].keys())\n",
    "d2 = d1[['store', 'prediction']].groupby('store').sum().reset_index()\n",
    "for i in range(len(d2)):\n",
    "    print('Loja número {} venderá R$ {:,.2f} nas próximas 6 semanas'.format(d2.loc[i, 'store'], d2.loc[i, 'prediction']))"
   ]
  }
 ],
 "metadata": {
  "kernelspec": {
   "display_name": "Python 3 (ipykernel)",
   "language": "python",
   "name": "python3"
  },
  "language_info": {
   "codemirror_mode": {
    "name": "ipython",
    "version": 3
   },
   "file_extension": ".py",
   "mimetype": "text/x-python",
   "name": "python",
   "nbconvert_exporter": "python",
   "pygments_lexer": "ipython3",
   "version": "3.8.0"
  },
  "toc": {
   "base_numbering": 1,
   "nav_menu": {},
   "number_sections": true,
   "sideBar": true,
   "skip_h1_title": false,
   "title_cell": "Table of Contents",
   "title_sidebar": "Contents",
   "toc_cell": false,
   "toc_position": {},
   "toc_section_display": true,
   "toc_window_display": false
  }
 },
 "nbformat": 4,
 "nbformat_minor": 5
}
