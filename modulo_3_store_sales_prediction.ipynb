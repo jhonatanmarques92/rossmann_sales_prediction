{
 "cells": [
  {
   "cell_type": "markdown",
   "id": "d7865716",
   "metadata": {},
   "source": [
    "# 1 - Imports"
   ]
  },
  {
   "cell_type": "code",
   "execution_count": 1,
   "id": "e0d9340f",
   "metadata": {
    "ExecuteTime": {
     "end_time": "2022-03-25T21:01:25.926878Z",
     "start_time": "2022-03-25T21:01:21.076251Z"
    }
   },
   "outputs": [],
   "source": [
    "import pandas as pd\n",
    "import inflection\n",
    "import calendar\n",
    "import datetime\n",
    "import numpy as np\n",
    "import seaborn as sns\n",
    "import matplotlib.pyplot as plt\n",
    "from IPython.display import Image\n",
    "\n",
    "from warnings import filterwarnings"
   ]
  },
  {
   "cell_type": "code",
   "execution_count": 2,
   "id": "c3e43f4f",
   "metadata": {
    "ExecuteTime": {
     "end_time": "2022-03-25T21:01:25.946754Z",
     "start_time": "2022-03-25T21:01:25.934114Z"
    }
   },
   "outputs": [],
   "source": [
    "filterwarnings('ignore')"
   ]
  },
  {
   "cell_type": "markdown",
   "id": "64f71a5d",
   "metadata": {},
   "source": [
    "## 1.1 - Funções"
   ]
  },
  {
   "cell_type": "code",
   "execution_count": null,
   "id": "b568ce5d",
   "metadata": {},
   "outputs": [],
   "source": []
  },
  {
   "cell_type": "markdown",
   "id": "f6b48264",
   "metadata": {},
   "source": [
    "## 1.2 - Carregando os dados"
   ]
  },
  {
   "cell_type": "code",
   "execution_count": 3,
   "id": "24191f90",
   "metadata": {
    "ExecuteTime": {
     "end_time": "2022-03-25T21:01:29.069738Z",
     "start_time": "2022-03-25T21:01:25.953151Z"
    }
   },
   "outputs": [],
   "source": [
    "store = pd.read_csv('dados/store.csv', low_memory=False)\n",
    "train = pd.read_csv('dados/train.csv', low_memory=False)\n",
    "\n",
    "# Merge\n",
    "df = pd.merge(store,train, how='left', on='Store')"
   ]
  },
  {
   "cell_type": "code",
   "execution_count": 4,
   "id": "04fe3a43",
   "metadata": {
    "ExecuteTime": {
     "end_time": "2022-03-25T21:01:29.208765Z",
     "start_time": "2022-03-25T21:01:29.080815Z"
    }
   },
   "outputs": [
    {
     "data": {
      "text/html": [
       "<div>\n",
       "<style scoped>\n",
       "    .dataframe tbody tr th:only-of-type {\n",
       "        vertical-align: middle;\n",
       "    }\n",
       "\n",
       "    .dataframe tbody tr th {\n",
       "        vertical-align: top;\n",
       "    }\n",
       "\n",
       "    .dataframe thead th {\n",
       "        text-align: right;\n",
       "    }\n",
       "</style>\n",
       "<table border=\"1\" class=\"dataframe\">\n",
       "  <thead>\n",
       "    <tr style=\"text-align: right;\">\n",
       "      <th></th>\n",
       "      <th>Store</th>\n",
       "      <th>StoreType</th>\n",
       "      <th>Assortment</th>\n",
       "      <th>CompetitionDistance</th>\n",
       "      <th>CompetitionOpenSinceMonth</th>\n",
       "      <th>CompetitionOpenSinceYear</th>\n",
       "      <th>Promo2</th>\n",
       "      <th>Promo2SinceWeek</th>\n",
       "      <th>Promo2SinceYear</th>\n",
       "      <th>PromoInterval</th>\n",
       "      <th>DayOfWeek</th>\n",
       "      <th>Date</th>\n",
       "      <th>Sales</th>\n",
       "      <th>Customers</th>\n",
       "      <th>Open</th>\n",
       "      <th>Promo</th>\n",
       "      <th>StateHoliday</th>\n",
       "      <th>SchoolHoliday</th>\n",
       "    </tr>\n",
       "  </thead>\n",
       "  <tbody>\n",
       "    <tr>\n",
       "      <th>0</th>\n",
       "      <td>1</td>\n",
       "      <td>c</td>\n",
       "      <td>a</td>\n",
       "      <td>1270.0</td>\n",
       "      <td>9.0</td>\n",
       "      <td>2008.0</td>\n",
       "      <td>0</td>\n",
       "      <td>NaN</td>\n",
       "      <td>NaN</td>\n",
       "      <td>NaN</td>\n",
       "      <td>5</td>\n",
       "      <td>2015-07-31</td>\n",
       "      <td>5263</td>\n",
       "      <td>555</td>\n",
       "      <td>1</td>\n",
       "      <td>1</td>\n",
       "      <td>0</td>\n",
       "      <td>1</td>\n",
       "    </tr>\n",
       "    <tr>\n",
       "      <th>1</th>\n",
       "      <td>1</td>\n",
       "      <td>c</td>\n",
       "      <td>a</td>\n",
       "      <td>1270.0</td>\n",
       "      <td>9.0</td>\n",
       "      <td>2008.0</td>\n",
       "      <td>0</td>\n",
       "      <td>NaN</td>\n",
       "      <td>NaN</td>\n",
       "      <td>NaN</td>\n",
       "      <td>4</td>\n",
       "      <td>2015-07-30</td>\n",
       "      <td>5020</td>\n",
       "      <td>546</td>\n",
       "      <td>1</td>\n",
       "      <td>1</td>\n",
       "      <td>0</td>\n",
       "      <td>1</td>\n",
       "    </tr>\n",
       "    <tr>\n",
       "      <th>2</th>\n",
       "      <td>1</td>\n",
       "      <td>c</td>\n",
       "      <td>a</td>\n",
       "      <td>1270.0</td>\n",
       "      <td>9.0</td>\n",
       "      <td>2008.0</td>\n",
       "      <td>0</td>\n",
       "      <td>NaN</td>\n",
       "      <td>NaN</td>\n",
       "      <td>NaN</td>\n",
       "      <td>3</td>\n",
       "      <td>2015-07-29</td>\n",
       "      <td>4782</td>\n",
       "      <td>523</td>\n",
       "      <td>1</td>\n",
       "      <td>1</td>\n",
       "      <td>0</td>\n",
       "      <td>1</td>\n",
       "    </tr>\n",
       "    <tr>\n",
       "      <th>3</th>\n",
       "      <td>1</td>\n",
       "      <td>c</td>\n",
       "      <td>a</td>\n",
       "      <td>1270.0</td>\n",
       "      <td>9.0</td>\n",
       "      <td>2008.0</td>\n",
       "      <td>0</td>\n",
       "      <td>NaN</td>\n",
       "      <td>NaN</td>\n",
       "      <td>NaN</td>\n",
       "      <td>2</td>\n",
       "      <td>2015-07-28</td>\n",
       "      <td>5011</td>\n",
       "      <td>560</td>\n",
       "      <td>1</td>\n",
       "      <td>1</td>\n",
       "      <td>0</td>\n",
       "      <td>1</td>\n",
       "    </tr>\n",
       "    <tr>\n",
       "      <th>4</th>\n",
       "      <td>1</td>\n",
       "      <td>c</td>\n",
       "      <td>a</td>\n",
       "      <td>1270.0</td>\n",
       "      <td>9.0</td>\n",
       "      <td>2008.0</td>\n",
       "      <td>0</td>\n",
       "      <td>NaN</td>\n",
       "      <td>NaN</td>\n",
       "      <td>NaN</td>\n",
       "      <td>1</td>\n",
       "      <td>2015-07-27</td>\n",
       "      <td>6102</td>\n",
       "      <td>612</td>\n",
       "      <td>1</td>\n",
       "      <td>1</td>\n",
       "      <td>0</td>\n",
       "      <td>1</td>\n",
       "    </tr>\n",
       "  </tbody>\n",
       "</table>\n",
       "</div>"
      ],
      "text/plain": [
       "   Store StoreType Assortment  CompetitionDistance  CompetitionOpenSinceMonth  \\\n",
       "0      1         c          a               1270.0                        9.0   \n",
       "1      1         c          a               1270.0                        9.0   \n",
       "2      1         c          a               1270.0                        9.0   \n",
       "3      1         c          a               1270.0                        9.0   \n",
       "4      1         c          a               1270.0                        9.0   \n",
       "\n",
       "   CompetitionOpenSinceYear  Promo2  Promo2SinceWeek  Promo2SinceYear  \\\n",
       "0                    2008.0       0              NaN              NaN   \n",
       "1                    2008.0       0              NaN              NaN   \n",
       "2                    2008.0       0              NaN              NaN   \n",
       "3                    2008.0       0              NaN              NaN   \n",
       "4                    2008.0       0              NaN              NaN   \n",
       "\n",
       "  PromoInterval  DayOfWeek        Date  Sales  Customers  Open  Promo  \\\n",
       "0           NaN          5  2015-07-31   5263        555     1      1   \n",
       "1           NaN          4  2015-07-30   5020        546     1      1   \n",
       "2           NaN          3  2015-07-29   4782        523     1      1   \n",
       "3           NaN          2  2015-07-28   5011        560     1      1   \n",
       "4           NaN          1  2015-07-27   6102        612     1      1   \n",
       "\n",
       "  StateHoliday  SchoolHoliday  \n",
       "0            0              1  \n",
       "1            0              1  \n",
       "2            0              1  \n",
       "3            0              1  \n",
       "4            0              1  "
      ]
     },
     "execution_count": 4,
     "metadata": {},
     "output_type": "execute_result"
    }
   ],
   "source": [
    "df.head()"
   ]
  },
  {
   "cell_type": "markdown",
   "id": "94fe341c",
   "metadata": {},
   "source": [
    "# 2 - Descrição dos dados"
   ]
  },
  {
   "cell_type": "code",
   "execution_count": 5,
   "id": "419054da",
   "metadata": {
    "ExecuteTime": {
     "end_time": "2022-03-25T21:01:29.976582Z",
     "start_time": "2022-03-25T21:01:29.219229Z"
    }
   },
   "outputs": [],
   "source": [
    "df1 = df.copy()"
   ]
  },
  {
   "cell_type": "markdown",
   "id": "2a9cf376",
   "metadata": {},
   "source": [
    "## 2.1 - Renomear as colunas"
   ]
  },
  {
   "cell_type": "code",
   "execution_count": 6,
   "id": "040c7bf1",
   "metadata": {
    "ExecuteTime": {
     "end_time": "2022-03-25T21:01:30.046497Z",
     "start_time": "2022-03-25T21:01:29.982943Z"
    }
   },
   "outputs": [],
   "source": [
    "old_name = ['Store', 'StoreType', 'Assortment', 'CompetitionDistance',\n",
    "'CompetitionOpenSinceMonth', 'CompetitionOpenSinceYear', 'Promo2',\n",
    "'Promo2SinceWeek', 'Promo2SinceYear', 'PromoInterval', 'DayOfWeek',\n",
    "'Date', 'Sales', 'Customers', 'Open', 'Promo', 'StateHoliday',\n",
    "'SchoolHoliday']\n",
    "\n",
    "snakecase = lambda x: inflection.underscore(x)\n",
    "new_name = list(map(snakecase, old_name))\n",
    "\n",
    "# Renomear colunas\n",
    "df1.columns = new_name"
   ]
  },
  {
   "cell_type": "code",
   "execution_count": 7,
   "id": "a968480e",
   "metadata": {
    "ExecuteTime": {
     "end_time": "2022-03-25T21:01:30.097014Z",
     "start_time": "2022-03-25T21:01:30.058306Z"
    }
   },
   "outputs": [
    {
     "name": "stdout",
     "output_type": "stream",
     "text": [
      "Quantidade de colunas: 1017209\n",
      "Quantidade de linhas: 18\n"
     ]
    }
   ],
   "source": [
    "print(f'Quantidade de colunas: {df1.shape[0]}')\n",
    "print(f'Quantidade de linhas: {df1.shape[1]}')"
   ]
  },
  {
   "cell_type": "markdown",
   "id": "a98adc2a",
   "metadata": {},
   "source": [
    "## 2.2 - Tipo dos dados"
   ]
  },
  {
   "cell_type": "code",
   "execution_count": 8,
   "id": "b883d48a",
   "metadata": {
    "ExecuteTime": {
     "end_time": "2022-03-25T21:01:30.776349Z",
     "start_time": "2022-03-25T21:01:30.105025Z"
    }
   },
   "outputs": [
    {
     "data": {
      "text/plain": [
       "store                                    int64\n",
       "store_type                              object\n",
       "assortment                              object\n",
       "competition_distance                   float64\n",
       "competition_open_since_month           float64\n",
       "competition_open_since_year            float64\n",
       "promo2                                   int64\n",
       "promo2_since_week                      float64\n",
       "promo2_since_year                      float64\n",
       "promo_interval                          object\n",
       "day_of_week                              int64\n",
       "date                            datetime64[ns]\n",
       "sales                                    int64\n",
       "customers                                int64\n",
       "open                                     int64\n",
       "promo                                    int64\n",
       "state_holiday                           object\n",
       "school_holiday                           int64\n",
       "dtype: object"
      ]
     },
     "execution_count": 8,
     "metadata": {},
     "output_type": "execute_result"
    }
   ],
   "source": [
    "df1['date'] = pd.to_datetime(df1['date'])\n",
    "\n",
    "df1.dtypes"
   ]
  },
  {
   "cell_type": "markdown",
   "id": "cbd43cfd",
   "metadata": {},
   "source": [
    "## 2.3 - Dados nulos"
   ]
  },
  {
   "cell_type": "code",
   "execution_count": 9,
   "id": "1f8f27d6",
   "metadata": {
    "ExecuteTime": {
     "end_time": "2022-03-25T21:01:32.338682Z",
     "start_time": "2022-03-25T21:01:30.785873Z"
    }
   },
   "outputs": [
    {
     "data": {
      "text/plain": [
       "store                                0\n",
       "store_type                           0\n",
       "assortment                           0\n",
       "competition_distance              2642\n",
       "competition_open_since_month    323348\n",
       "competition_open_since_year     323348\n",
       "promo2                               0\n",
       "promo2_since_week               508031\n",
       "promo2_since_year               508031\n",
       "promo_interval                  508031\n",
       "day_of_week                          0\n",
       "date                                 0\n",
       "sales                                0\n",
       "customers                            0\n",
       "open                                 0\n",
       "promo                                0\n",
       "state_holiday                        0\n",
       "school_holiday                       0\n",
       "dtype: int64"
      ]
     },
     "execution_count": 9,
     "metadata": {},
     "output_type": "execute_result"
    }
   ],
   "source": [
    "df1.isnull().sum()"
   ]
  },
  {
   "cell_type": "markdown",
   "id": "e23c8a31",
   "metadata": {},
   "source": [
    "## 2.4 - Corrigindo os dados nulos"
   ]
  },
  {
   "cell_type": "code",
   "execution_count": 10,
   "id": "abc50211",
   "metadata": {
    "ExecuteTime": {
     "end_time": "2022-03-25T21:02:07.198013Z",
     "start_time": "2022-03-25T21:01:32.351864Z"
    },
    "code_folding": []
   },
   "outputs": [],
   "source": [
    "# competition_distance\n",
    "df1['competition_distance'].fillna(200000, inplace=True)\n",
    "\n",
    "#competition_open_since_month\n",
    "df1['competition_open_since_month'].fillna(df1['date'].dt.month, inplace=True)\n",
    "\n",
    "#competition_open_since_year\n",
    "df1['competition_open_since_year'].fillna(df1['date'].dt.year, inplace=True)\n",
    "\n",
    "#promo2_since_week\n",
    "df1['promo2_since_week'].fillna(df1['date'].dt.week, inplace=True)\n",
    "\n",
    "#promo2_since_year\n",
    "df1['promo2_since_year'].fillna(df1['date'].dt.year, inplace=True)\n",
    "\n",
    "#promo_interval\n",
    "df1['promo_interval'].fillna(0, inplace=True)\n",
    "\n",
    "month_map = dict(enumerate(calendar.month_abbr))\n",
    "\n",
    "df1['month_map'] = df1['date'].dt.month.map(month_map)\n",
    "\n",
    "df1['is_promo'] = df1[['month_map', 'promo_interval']].apply(lambda x: 0 if x['promo_interval'] == 0 else 1 if \n",
    "                                                        x['month_map'] in x['promo_interval'].split( ',' ) else 0, axis=1)"
   ]
  },
  {
   "cell_type": "code",
   "execution_count": 11,
   "id": "4a6a068a",
   "metadata": {
    "ExecuteTime": {
     "end_time": "2022-03-25T21:02:08.566185Z",
     "start_time": "2022-03-25T21:02:07.202007Z"
    }
   },
   "outputs": [
    {
     "data": {
      "text/plain": [
       "store                           0\n",
       "store_type                      0\n",
       "assortment                      0\n",
       "competition_distance            0\n",
       "competition_open_since_month    0\n",
       "competition_open_since_year     0\n",
       "promo2                          0\n",
       "promo2_since_week               0\n",
       "promo2_since_year               0\n",
       "promo_interval                  0\n",
       "day_of_week                     0\n",
       "date                            0\n",
       "sales                           0\n",
       "customers                       0\n",
       "open                            0\n",
       "promo                           0\n",
       "state_holiday                   0\n",
       "school_holiday                  0\n",
       "month_map                       0\n",
       "is_promo                        0\n",
       "dtype: int64"
      ]
     },
     "execution_count": 11,
     "metadata": {},
     "output_type": "execute_result"
    }
   ],
   "source": [
    "df1.isnull().sum()"
   ]
  },
  {
   "cell_type": "markdown",
   "id": "5baa68af",
   "metadata": {},
   "source": [
    "## 2.5 - Alterar o tipo dos dados"
   ]
  },
  {
   "cell_type": "code",
   "execution_count": 12,
   "id": "120492f0",
   "metadata": {
    "ExecuteTime": {
     "end_time": "2022-03-25T21:02:08.661349Z",
     "start_time": "2022-03-25T21:02:08.573309Z"
    }
   },
   "outputs": [],
   "source": [
    "df1['competition_open_since_month'] = df1['competition_open_since_month'].astype(int)\n",
    "df1['competition_open_since_year'] = df1['competition_open_since_year'].astype(int)\n",
    "df1['promo2_since_week'] = df1['promo2_since_week'].astype(int)\n",
    "df1['promo2_since_year'] = df1['promo2_since_year'].astype(int)"
   ]
  },
  {
   "cell_type": "code",
   "execution_count": 13,
   "id": "6724f45a",
   "metadata": {
    "ExecuteTime": {
     "end_time": "2022-03-25T21:02:08.687242Z",
     "start_time": "2022-03-25T21:02:08.666265Z"
    }
   },
   "outputs": [
    {
     "data": {
      "text/plain": [
       "store                                    int64\n",
       "store_type                              object\n",
       "assortment                              object\n",
       "competition_distance                   float64\n",
       "competition_open_since_month             int64\n",
       "competition_open_since_year              int64\n",
       "promo2                                   int64\n",
       "promo2_since_week                        int64\n",
       "promo2_since_year                        int64\n",
       "promo_interval                          object\n",
       "day_of_week                              int64\n",
       "date                            datetime64[ns]\n",
       "sales                                    int64\n",
       "customers                                int64\n",
       "open                                     int64\n",
       "promo                                    int64\n",
       "state_holiday                           object\n",
       "school_holiday                           int64\n",
       "month_map                               object\n",
       "is_promo                                 int64\n",
       "dtype: object"
      ]
     },
     "execution_count": 13,
     "metadata": {},
     "output_type": "execute_result"
    }
   ],
   "source": [
    "df1.dtypes"
   ]
  },
  {
   "cell_type": "markdown",
   "id": "d7f03789",
   "metadata": {},
   "source": [
    "## 2.6 -  Análise descritiva"
   ]
  },
  {
   "cell_type": "code",
   "execution_count": 14,
   "id": "eeeacc37",
   "metadata": {
    "ExecuteTime": {
     "end_time": "2022-03-25T21:02:08.712280Z",
     "start_time": "2022-03-25T21:02:08.697344Z"
    }
   },
   "outputs": [],
   "source": [
    "num = df1.select_dtypes(include=['int64', 'float64'])\n",
    "cat = df1.select_dtypes(exclude=['int64', 'float64', 'datetime64[ns]'])"
   ]
  },
  {
   "cell_type": "markdown",
   "id": "686f8161",
   "metadata": {},
   "source": [
    "### 2.6.1 - Análise numérica"
   ]
  },
  {
   "cell_type": "code",
   "execution_count": 15,
   "id": "23536042",
   "metadata": {
    "ExecuteTime": {
     "end_time": "2022-03-25T21:02:10.158759Z",
     "start_time": "2022-03-25T21:02:08.719975Z"
    }
   },
   "outputs": [
    {
     "data": {
      "text/html": [
       "<div>\n",
       "<style scoped>\n",
       "    .dataframe tbody tr th:only-of-type {\n",
       "        vertical-align: middle;\n",
       "    }\n",
       "\n",
       "    .dataframe tbody tr th {\n",
       "        vertical-align: top;\n",
       "    }\n",
       "\n",
       "    .dataframe thead th {\n",
       "        text-align: right;\n",
       "    }\n",
       "</style>\n",
       "<table border=\"1\" class=\"dataframe\">\n",
       "  <thead>\n",
       "    <tr style=\"text-align: right;\">\n",
       "      <th></th>\n",
       "      <th>count</th>\n",
       "      <th>mean</th>\n",
       "      <th>median</th>\n",
       "      <th>min</th>\n",
       "      <th>25%</th>\n",
       "      <th>50%</th>\n",
       "      <th>75%</th>\n",
       "      <th>max</th>\n",
       "      <th>range</th>\n",
       "      <th>std</th>\n",
       "      <th>skew</th>\n",
       "      <th>kurtosis</th>\n",
       "    </tr>\n",
       "  </thead>\n",
       "  <tbody>\n",
       "    <tr>\n",
       "      <th>store</th>\n",
       "      <td>1017209.0</td>\n",
       "      <td>558.429727</td>\n",
       "      <td>558.0</td>\n",
       "      <td>1.0</td>\n",
       "      <td>280.0</td>\n",
       "      <td>558.0</td>\n",
       "      <td>838.0</td>\n",
       "      <td>1115.0</td>\n",
       "      <td>1114.0</td>\n",
       "      <td>321.908651</td>\n",
       "      <td>-0.000955</td>\n",
       "      <td>-1.200524</td>\n",
       "    </tr>\n",
       "    <tr>\n",
       "      <th>competition_distance</th>\n",
       "      <td>1017209.0</td>\n",
       "      <td>5935.442677</td>\n",
       "      <td>2330.0</td>\n",
       "      <td>20.0</td>\n",
       "      <td>710.0</td>\n",
       "      <td>2330.0</td>\n",
       "      <td>6910.0</td>\n",
       "      <td>200000.0</td>\n",
       "      <td>199980.0</td>\n",
       "      <td>12547.652996</td>\n",
       "      <td>10.242344</td>\n",
       "      <td>147.789712</td>\n",
       "    </tr>\n",
       "    <tr>\n",
       "      <th>competition_open_since_month</th>\n",
       "      <td>1017209.0</td>\n",
       "      <td>6.786849</td>\n",
       "      <td>7.0</td>\n",
       "      <td>1.0</td>\n",
       "      <td>4.0</td>\n",
       "      <td>7.0</td>\n",
       "      <td>10.0</td>\n",
       "      <td>12.0</td>\n",
       "      <td>11.0</td>\n",
       "      <td>3.311087</td>\n",
       "      <td>-0.042076</td>\n",
       "      <td>-1.232607</td>\n",
       "    </tr>\n",
       "    <tr>\n",
       "      <th>competition_open_since_year</th>\n",
       "      <td>1017209.0</td>\n",
       "      <td>2010.324840</td>\n",
       "      <td>2012.0</td>\n",
       "      <td>1900.0</td>\n",
       "      <td>2008.0</td>\n",
       "      <td>2012.0</td>\n",
       "      <td>2014.0</td>\n",
       "      <td>2015.0</td>\n",
       "      <td>115.0</td>\n",
       "      <td>5.515593</td>\n",
       "      <td>-7.235657</td>\n",
       "      <td>124.071304</td>\n",
       "    </tr>\n",
       "    <tr>\n",
       "      <th>promo2</th>\n",
       "      <td>1017209.0</td>\n",
       "      <td>0.500564</td>\n",
       "      <td>1.0</td>\n",
       "      <td>0.0</td>\n",
       "      <td>0.0</td>\n",
       "      <td>1.0</td>\n",
       "      <td>1.0</td>\n",
       "      <td>1.0</td>\n",
       "      <td>1.0</td>\n",
       "      <td>0.500000</td>\n",
       "      <td>-0.002255</td>\n",
       "      <td>-1.999999</td>\n",
       "    </tr>\n",
       "    <tr>\n",
       "      <th>promo2_since_week</th>\n",
       "      <td>1017209.0</td>\n",
       "      <td>23.619033</td>\n",
       "      <td>22.0</td>\n",
       "      <td>1.0</td>\n",
       "      <td>12.0</td>\n",
       "      <td>22.0</td>\n",
       "      <td>37.0</td>\n",
       "      <td>52.0</td>\n",
       "      <td>51.0</td>\n",
       "      <td>14.310064</td>\n",
       "      <td>0.178723</td>\n",
       "      <td>-1.184046</td>\n",
       "    </tr>\n",
       "    <tr>\n",
       "      <th>promo2_since_year</th>\n",
       "      <td>1017209.0</td>\n",
       "      <td>2012.793297</td>\n",
       "      <td>2013.0</td>\n",
       "      <td>2009.0</td>\n",
       "      <td>2012.0</td>\n",
       "      <td>2013.0</td>\n",
       "      <td>2014.0</td>\n",
       "      <td>2015.0</td>\n",
       "      <td>6.0</td>\n",
       "      <td>1.662658</td>\n",
       "      <td>-0.784436</td>\n",
       "      <td>-0.210075</td>\n",
       "    </tr>\n",
       "    <tr>\n",
       "      <th>day_of_week</th>\n",
       "      <td>1017209.0</td>\n",
       "      <td>3.998341</td>\n",
       "      <td>4.0</td>\n",
       "      <td>1.0</td>\n",
       "      <td>2.0</td>\n",
       "      <td>4.0</td>\n",
       "      <td>6.0</td>\n",
       "      <td>7.0</td>\n",
       "      <td>6.0</td>\n",
       "      <td>1.997391</td>\n",
       "      <td>0.001593</td>\n",
       "      <td>-1.246873</td>\n",
       "    </tr>\n",
       "    <tr>\n",
       "      <th>sales</th>\n",
       "      <td>1017209.0</td>\n",
       "      <td>5773.818972</td>\n",
       "      <td>5744.0</td>\n",
       "      <td>0.0</td>\n",
       "      <td>3727.0</td>\n",
       "      <td>5744.0</td>\n",
       "      <td>7856.0</td>\n",
       "      <td>41551.0</td>\n",
       "      <td>41551.0</td>\n",
       "      <td>3849.926175</td>\n",
       "      <td>0.641460</td>\n",
       "      <td>1.778375</td>\n",
       "    </tr>\n",
       "    <tr>\n",
       "      <th>customers</th>\n",
       "      <td>1017209.0</td>\n",
       "      <td>633.145946</td>\n",
       "      <td>609.0</td>\n",
       "      <td>0.0</td>\n",
       "      <td>405.0</td>\n",
       "      <td>609.0</td>\n",
       "      <td>837.0</td>\n",
       "      <td>7388.0</td>\n",
       "      <td>7388.0</td>\n",
       "      <td>464.411734</td>\n",
       "      <td>1.598650</td>\n",
       "      <td>7.091773</td>\n",
       "    </tr>\n",
       "    <tr>\n",
       "      <th>open</th>\n",
       "      <td>1017209.0</td>\n",
       "      <td>0.830107</td>\n",
       "      <td>1.0</td>\n",
       "      <td>0.0</td>\n",
       "      <td>1.0</td>\n",
       "      <td>1.0</td>\n",
       "      <td>1.0</td>\n",
       "      <td>1.0</td>\n",
       "      <td>1.0</td>\n",
       "      <td>0.375539</td>\n",
       "      <td>-1.758045</td>\n",
       "      <td>1.090723</td>\n",
       "    </tr>\n",
       "    <tr>\n",
       "      <th>promo</th>\n",
       "      <td>1017209.0</td>\n",
       "      <td>0.381515</td>\n",
       "      <td>0.0</td>\n",
       "      <td>0.0</td>\n",
       "      <td>0.0</td>\n",
       "      <td>0.0</td>\n",
       "      <td>1.0</td>\n",
       "      <td>1.0</td>\n",
       "      <td>1.0</td>\n",
       "      <td>0.485759</td>\n",
       "      <td>0.487838</td>\n",
       "      <td>-1.762018</td>\n",
       "    </tr>\n",
       "    <tr>\n",
       "      <th>school_holiday</th>\n",
       "      <td>1017209.0</td>\n",
       "      <td>0.178647</td>\n",
       "      <td>0.0</td>\n",
       "      <td>0.0</td>\n",
       "      <td>0.0</td>\n",
       "      <td>0.0</td>\n",
       "      <td>0.0</td>\n",
       "      <td>1.0</td>\n",
       "      <td>1.0</td>\n",
       "      <td>0.383056</td>\n",
       "      <td>1.677842</td>\n",
       "      <td>0.815154</td>\n",
       "    </tr>\n",
       "    <tr>\n",
       "      <th>is_promo</th>\n",
       "      <td>1017209.0</td>\n",
       "      <td>0.165966</td>\n",
       "      <td>0.0</td>\n",
       "      <td>0.0</td>\n",
       "      <td>0.0</td>\n",
       "      <td>0.0</td>\n",
       "      <td>0.0</td>\n",
       "      <td>1.0</td>\n",
       "      <td>1.0</td>\n",
       "      <td>0.372050</td>\n",
       "      <td>1.795644</td>\n",
       "      <td>1.224338</td>\n",
       "    </tr>\n",
       "  </tbody>\n",
       "</table>\n",
       "</div>"
      ],
      "text/plain": [
       "                                  count         mean  median     min     25%  \\\n",
       "store                         1017209.0   558.429727   558.0     1.0   280.0   \n",
       "competition_distance          1017209.0  5935.442677  2330.0    20.0   710.0   \n",
       "competition_open_since_month  1017209.0     6.786849     7.0     1.0     4.0   \n",
       "competition_open_since_year   1017209.0  2010.324840  2012.0  1900.0  2008.0   \n",
       "promo2                        1017209.0     0.500564     1.0     0.0     0.0   \n",
       "promo2_since_week             1017209.0    23.619033    22.0     1.0    12.0   \n",
       "promo2_since_year             1017209.0  2012.793297  2013.0  2009.0  2012.0   \n",
       "day_of_week                   1017209.0     3.998341     4.0     1.0     2.0   \n",
       "sales                         1017209.0  5773.818972  5744.0     0.0  3727.0   \n",
       "customers                     1017209.0   633.145946   609.0     0.0   405.0   \n",
       "open                          1017209.0     0.830107     1.0     0.0     1.0   \n",
       "promo                         1017209.0     0.381515     0.0     0.0     0.0   \n",
       "school_holiday                1017209.0     0.178647     0.0     0.0     0.0   \n",
       "is_promo                      1017209.0     0.165966     0.0     0.0     0.0   \n",
       "\n",
       "                                 50%     75%       max     range  \\\n",
       "store                          558.0   838.0    1115.0    1114.0   \n",
       "competition_distance          2330.0  6910.0  200000.0  199980.0   \n",
       "competition_open_since_month     7.0    10.0      12.0      11.0   \n",
       "competition_open_since_year   2012.0  2014.0    2015.0     115.0   \n",
       "promo2                           1.0     1.0       1.0       1.0   \n",
       "promo2_since_week               22.0    37.0      52.0      51.0   \n",
       "promo2_since_year             2013.0  2014.0    2015.0       6.0   \n",
       "day_of_week                      4.0     6.0       7.0       6.0   \n",
       "sales                         5744.0  7856.0   41551.0   41551.0   \n",
       "customers                      609.0   837.0    7388.0    7388.0   \n",
       "open                             1.0     1.0       1.0       1.0   \n",
       "promo                            0.0     1.0       1.0       1.0   \n",
       "school_holiday                   0.0     0.0       1.0       1.0   \n",
       "is_promo                         0.0     0.0       1.0       1.0   \n",
       "\n",
       "                                       std       skew    kurtosis  \n",
       "store                           321.908651  -0.000955   -1.200524  \n",
       "competition_distance          12547.652996  10.242344  147.789712  \n",
       "competition_open_since_month      3.311087  -0.042076   -1.232607  \n",
       "competition_open_since_year       5.515593  -7.235657  124.071304  \n",
       "promo2                            0.500000  -0.002255   -1.999999  \n",
       "promo2_since_week                14.310064   0.178723   -1.184046  \n",
       "promo2_since_year                 1.662658  -0.784436   -0.210075  \n",
       "day_of_week                       1.997391   0.001593   -1.246873  \n",
       "sales                          3849.926175   0.641460    1.778375  \n",
       "customers                       464.411734   1.598650    7.091773  \n",
       "open                              0.375539  -1.758045    1.090723  \n",
       "promo                             0.485759   0.487838   -1.762018  \n",
       "school_holiday                    0.383056   1.677842    0.815154  \n",
       "is_promo                          0.372050   1.795644    1.224338  "
      ]
     },
     "execution_count": 15,
     "metadata": {},
     "output_type": "execute_result"
    }
   ],
   "source": [
    "# Tendência central(média e mediana) e dispersão (min, max, percentis, std, skew e kurtosis)\n",
    "desc = num.describe().T\n",
    "median = pd.DataFrame( num.apply( np.median ) )\n",
    "range_ = pd.DataFrame( num.apply( lambda x: x.max() - x.min() ) )\n",
    "skew = pd.DataFrame( num.apply( lambda x: x.skew() ) )\n",
    "kurtosis = pd.DataFrame( num.apply( lambda x: x.kurtosis() ) )\n",
    "\n",
    "desc.insert(2,'median', median[0].values)\n",
    "desc.insert(len(desc.columns),'range', range_[0].values)\n",
    "std = desc.pop('std')\n",
    "desc.insert(len(desc.columns),'std', std)\n",
    "desc.insert(len(desc.columns),'skew', skew[0].values)\n",
    "desc.insert(len(desc.columns),'kurtosis', kurtosis[0].values)\n",
    "\n",
    "desc"
   ]
  },
  {
   "cell_type": "markdown",
   "id": "cb33ac89",
   "metadata": {},
   "source": [
    "### 2.6.2 - Análise categórica"
   ]
  },
  {
   "cell_type": "code",
   "execution_count": 16,
   "id": "240e8582",
   "metadata": {
    "ExecuteTime": {
     "end_time": "2022-03-25T21:02:10.647374Z",
     "start_time": "2022-03-25T21:02:10.169276Z"
    }
   },
   "outputs": [
    {
     "data": {
      "text/plain": [
       "store_type         4\n",
       "assortment         3\n",
       "promo_interval     4\n",
       "state_holiday      4\n",
       "month_map         12\n",
       "dtype: int64"
      ]
     },
     "execution_count": 16,
     "metadata": {},
     "output_type": "execute_result"
    }
   ],
   "source": [
    "cat.apply(lambda x: x.unique().shape[0])"
   ]
  },
  {
   "cell_type": "code",
   "execution_count": 17,
   "id": "82fde8e9",
   "metadata": {
    "ExecuteTime": {
     "end_time": "2022-03-25T21:02:12.094897Z",
     "start_time": "2022-03-25T21:02:10.656705Z"
    }
   },
   "outputs": [
    {
     "data": {
      "text/plain": [
       "<AxesSubplot:xlabel='assortment', ylabel='sales'>"
      ]
     },
     "execution_count": 17,
     "metadata": {},
     "output_type": "execute_result"
    },
    {
     "data": {
      "image/png": "[encoded data removed]",
      "text/plain": [
       "<Figure size 1296x576 with 3 Axes>"
      ]
     },
     "metadata": {
      "needs_background": "light"
     },
     "output_type": "display_data"
    }
   ],
   "source": [
    "aux = df1[(df1['state_holiday'] != '0') & (df1['sales'] > 0)]\n",
    "\n",
    "plt.figure(figsize=(18,8))\n",
    "plt.subplot(1, 3, 1)\n",
    "sns.boxplot(x='state_holiday', y='sales', data=aux)\n",
    "plt.subplot(1, 3, 2)\n",
    "sns.boxplot(x='store_type', y='sales', data=aux)\n",
    "plt.subplot(1, 3, 3)\n",
    "sns.boxplot(x='assortment', y='sales', data=aux)"
   ]
  },
  {
   "cell_type": "markdown",
   "id": "618a8891",
   "metadata": {},
   "source": [
    "# 3.0 - Feature Engineering"
   ]
  },
  {
   "cell_type": "markdown",
   "id": "7b30df47",
   "metadata": {
    "ExecuteTime": {
     "end_time": "2022-03-23T22:33:55.634497Z",
     "start_time": "2022-03-23T22:33:55.627326Z"
    }
   },
   "source": [
    "## 3.1 - Mapa mental das hipóteses"
   ]
  },
  {
   "cell_type": "code",
   "execution_count": 18,
   "id": "d1b82aac",
   "metadata": {
    "ExecuteTime": {
     "end_time": "2022-03-25T21:02:12.182436Z",
     "start_time": "2022-03-25T21:02:12.102873Z"
    }
   },
   "outputs": [
    {
     "data": {
      "image/png": "[encoded data removed]",
      "text/plain": [
       "<IPython.core.display.Image object>"
      ]
     },
     "execution_count": 18,
     "metadata": {
      "image/png": {
       "height": 1150,
       "width": 650
      }
     },
     "output_type": "execute_result"
    }
   ],
   "source": [
    "Image('img/hipoteses_mindmap.png', width=650, height=1150)"
   ]
  },
  {
   "cell_type": "markdown",
   "id": "16132b33",
   "metadata": {},
   "source": [
    "## 3.2 - Criação das hipóteses"
   ]
  },
  {
   "cell_type": "markdown",
   "id": "780962dc",
   "metadata": {},
   "source": [
    "### 3.2.1 - Hipótese da loja"
   ]
  },
  {
   "cell_type": "markdown",
   "id": "59b37a69",
   "metadata": {},
   "source": [
    "**1.** Loja com maior número de funcionários deveriam vender mais.  \n",
    "\n",
    "**2.** Lojas com maior capacidade de estoque deveriam vender mais.   \n",
    "\n",
    "**3.** Lojas com maior porte deveriam vender mais.  \n",
    "\n",
    "**4.** Lojas com maior sortimentos deveriam vender mais.  \n",
    "\n",
    "**5.** Lojas com competidores mais próximos deveriam vender menos.  \n",
    "\n",
    "**6.** Lojas com competidores à mais tempo deveriam vendem mais.  "
   ]
  },
  {
   "cell_type": "markdown",
   "id": "591f928f",
   "metadata": {},
   "source": [
    "### 3.2.2 - Hipótese do produto"
   ]
  },
  {
   "cell_type": "markdown",
   "id": "d4b81646",
   "metadata": {},
   "source": [
    "**1.** Lojas que investem mais em Marketing deveriam vender mais.\n",
    "\n",
    "**2.** Lojas com maior exposição de produto deveriam vender mais.\n",
    "\n",
    "**3.** Lojas com produtos com preço menor deveriam vender mais.\n",
    "\n",
    "**4.** Lojas com promoções mais agressivas ( descontos maiores ), deveriam vender mais.\n",
    "\n",
    "**5.** Lojas com promoções ativas por mais tempo deveriam vender mais.\n",
    "\n",
    "**6.** Lojas com mais dias de promoção deveriam vender mais.\n",
    "\n",
    "**7.** Lojas com mais promoções consecutivas deveriam vender mais."
   ]
  },
  {
   "cell_type": "markdown",
   "id": "765be7fb",
   "metadata": {},
   "source": [
    "### 3.2.3 - Hipótese do tempo"
   ]
  },
  {
   "cell_type": "markdown",
   "id": "20975ecc",
   "metadata": {},
   "source": [
    "**1.** Lojas abertas durante o feriado de Natal deveriam vender mais.\n",
    "\n",
    "**2.** Lojas deveriam vender mais ao longo dos anos.\n",
    "\n",
    "**3.** Lojas deveriam vender mais no segundo semestre do ano.\n",
    "\n",
    "**4.** Lojas deveriam vender mais depois do dia 10 de cada mês.\n",
    "\n",
    "**5.** Lojas deveriam vender menos aos finais de semana.\n",
    "\n",
    "**6.** Lojas deveriam vender menos durante os feriados escolares."
   ]
  },
  {
   "cell_type": "markdown",
   "id": "1315fb81",
   "metadata": {},
   "source": [
    "## 3.3 - Lista final de hipóteses"
   ]
  },
  {
   "cell_type": "markdown",
   "id": "68a69943",
   "metadata": {},
   "source": [
    "**1.** Lojas com maior sortimentos deveriam vender mais.\n",
    "\n",
    "**2.** Lojas com competidores mais próximos deveriam vender menos.\n",
    "\n",
    "**3.** Lojas com competidores à mais tempo deveriam vendem mais.\n",
    "\n",
    "**4.** Lojas com promoções ativas por mais tempo deveriam vender mais.\n",
    "\n",
    "**5.** Lojas com mais dias de promoção deveriam vender mais.\n",
    "\n",
    "**6.** Lojas com mais promoções consecutivas deveriam vender mais.\n",
    "\n",
    "**7.** Lojas abertas durante o feriado de Natal deveriam vender mais.\n",
    "\n",
    "**8.** Lojas deveriam vender mais ao longo dos anos.\n",
    "\n",
    "**9.** Lojas deveriam vender mais no segundo semestre do ano.\n",
    "\n",
    "**10.** Lojas deveriam vender mais depois do dia 10 de cada mês.\n",
    "\n",
    "**11.** Lojas deveriam vender menos aos finais de semana.\n",
    "\n",
    "**12.** Lojas deveriam vender menos durante os feriados escolares."
   ]
  },
  {
   "cell_type": "code",
   "execution_count": 19,
   "id": "83739f9d",
   "metadata": {
    "ExecuteTime": {
     "end_time": "2022-03-25T21:02:12.416787Z",
     "start_time": "2022-03-25T21:02:12.190145Z"
    }
   },
   "outputs": [],
   "source": [
    "df2 = df1.copy()"
   ]
  },
  {
   "cell_type": "markdown",
   "id": "f3495528",
   "metadata": {},
   "source": [
    "### 3.4 - Feature engineering"
   ]
  },
  {
   "cell_type": "code",
   "execution_count": 20,
   "id": "9fcffcf3",
   "metadata": {
    "ExecuteTime": {
     "end_time": "2022-03-25T21:04:25.934335Z",
     "start_time": "2022-03-25T21:02:12.422071Z"
    }
   },
   "outputs": [],
   "source": [
    "# year\n",
    "df2['year'] = df2['date'].dt.year\n",
    "\n",
    "# month\n",
    "df2['month'] = df2['date'].dt.month\n",
    "\n",
    "# day\n",
    "df2['day'] = df2['date'].dt.day\n",
    "\n",
    "# week of year\n",
    "df2['week_of_year'] = df2['date'].dt.weekofyear\n",
    "\n",
    "#year week\n",
    "df2['year_week'] = df2['date'].dt.strftime('%Y-%W')\n",
    "\n",
    "# competition since\n",
    "df2['competition_since'] = df2.apply(lambda x: datetime.datetime(year=x['competition_open_since_year'], \n",
    "                                                                 month=x['competition_open_since_month'], day=1), axis=1)\n",
    "df2['competition_time_month'] = ((df2['date'] - df2['competition_since'])/30).apply(lambda x: x.days).astype(int)\n",
    "\n",
    "#promo since\n",
    "df2['promo_since'] = df2['promo2_since_year'].astype(str) + '-' + df2['promo2_since_week'].astype(str)\n",
    "df2['promo_since'] = df2['promo_since'].apply(lambda x: datetime.datetime.strptime(x + '-1', '%Y-%W-%w') - \n",
    "                                                                                      datetime.timedelta(days=7))\n",
    "df2['promo_time_week'] = ((df2['date'] - df2['promo_since'])/7).apply(lambda x: x.days).astype(int)\n",
    "\n",
    "#assortment\n",
    "df2['assortment'] = df2['assortment'].apply(lambda x: 'basic' if x == 'a' else 'extra' if x == 'b' else 'extended')\n",
    "\n",
    "#state holiday\n",
    "df2['state_holiday'] = df2['state_holiday'].apply(lambda x: 'public_holiday' if x == 'a' else 'easter_holiday' if x == 'b'\n",
    "                                                 else 'christmas' if x == 'c' else 'regular_day')"
   ]
  },
  {
   "cell_type": "markdown",
   "id": "f1770d84",
   "metadata": {},
   "source": [
    "# 4.0 - Filtragem das variáveis"
   ]
  },
  {
   "cell_type": "code",
   "execution_count": 21,
   "id": "0272cbc6",
   "metadata": {
    "ExecuteTime": {
     "end_time": "2022-03-25T21:04:26.784713Z",
     "start_time": "2022-03-25T21:04:25.943589Z"
    }
   },
   "outputs": [],
   "source": [
    "df3 = df2.copy()"
   ]
  },
  {
   "cell_type": "markdown",
   "id": "a20405e8",
   "metadata": {},
   "source": [
    "## 4.1 - Filtragem das linhas"
   ]
  },
  {
   "cell_type": "code",
   "execution_count": 23,
   "id": "0acd4859",
   "metadata": {
    "ExecuteTime": {
     "end_time": "2022-03-25T21:13:21.898544Z",
     "start_time": "2022-03-25T21:13:21.592463Z"
    }
   },
   "outputs": [],
   "source": [
    "df3 = df3[(df3['open'] != 0) & (df3['sales'] > 0)]"
   ]
  },
  {
   "cell_type": "markdown",
   "id": "542782f4",
   "metadata": {},
   "source": [
    "## 4.2 - Seleção das colunas"
   ]
  },
  {
   "cell_type": "code",
   "execution_count": 24,
   "id": "4685c389",
   "metadata": {
    "ExecuteTime": {
     "end_time": "2022-03-25T21:13:22.580695Z",
     "start_time": "2022-03-25T21:13:22.418040Z"
    }
   },
   "outputs": [],
   "source": [
    "df3.drop(['customers', 'open', 'promo_interval', 'month_map'], axis=1, inplace=True)"
   ]
  },
  {
   "cell_type": "code",
   "execution_count": null,
   "id": "a6db2405",
   "metadata": {},
   "outputs": [],
   "source": []
  }
 ],
 "metadata": {
  "kernelspec": {
   "display_name": "Python 3 (ipykernel)",
   "language": "python",
   "name": "python3"
  },
  "language_info": {
   "codemirror_mode": {
    "name": "ipython",
    "version": 3
   },
   "file_extension": ".py",
   "mimetype": "text/x-python",
   "name": "python",
   "nbconvert_exporter": "python",
   "pygments_lexer": "ipython3",
   "version": "3.8.0"
  }
 },
 "nbformat": 4,
 "nbformat_minor": 5
}
